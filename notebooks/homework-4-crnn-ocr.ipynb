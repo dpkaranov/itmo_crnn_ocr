{
 "cells": [
  {
   "cell_type": "code",
   "execution_count": 1,
   "id": "0f157f17",
   "metadata": {
    "_cell_guid": "b1076dfc-b9ad-4769-8c92-a6c4dae69d19",
    "_uuid": "8f2839f25d086af736a60e9eeb907d3b93b6e0e5",
    "execution": {
     "iopub.execute_input": "2023-06-05T06:46:38.751982Z",
     "iopub.status.busy": "2023-06-05T06:46:38.751602Z",
     "iopub.status.idle": "2023-06-05T06:46:42.431434Z",
     "shell.execute_reply": "2023-06-05T06:46:42.430503Z"
    },
    "papermill": {
     "duration": 3.691613,
     "end_time": "2023-06-05T06:46:42.433797",
     "exception": false,
     "start_time": "2023-06-05T06:46:38.742184",
     "status": "completed"
    },
    "tags": []
   },
   "outputs": [],
   "source": [
    "\n",
    "import numpy as np \n",
    "import pandas as pd \n",
    "import os\n",
    "from typing import Tuple, Union\n",
    "import matplotlib.pyplot as plt\n",
    "import torch\n",
    "import torchvision.transforms.functional as TF\n",
    "from torch.utils.data import Dataset\n",
    "from torchvision import datasets, transforms\n",
    "from tqdm import tqdm"
   ]
  },
  {
   "cell_type": "code",
   "execution_count": 2,
   "id": "5b865b8f",
   "metadata": {
    "execution": {
     "iopub.execute_input": "2023-06-05T06:46:42.450697Z",
     "iopub.status.busy": "2023-06-05T06:46:42.450228Z",
     "iopub.status.idle": "2023-06-05T06:46:42.455705Z",
     "shell.execute_reply": "2023-06-05T06:46:42.454901Z"
    },
    "papermill": {
     "duration": 0.01592,
     "end_time": "2023-06-05T06:46:42.457690",
     "exception": false,
     "start_time": "2023-06-05T06:46:42.441770",
     "status": "completed"
    },
    "tags": []
   },
   "outputs": [],
   "source": [
    "import matplotlib.pyplot as plt"
   ]
  },
  {
   "cell_type": "code",
   "execution_count": 3,
   "id": "423fd02f",
   "metadata": {
    "execution": {
     "iopub.execute_input": "2023-06-05T06:46:42.473794Z",
     "iopub.status.busy": "2023-06-05T06:46:42.473543Z",
     "iopub.status.idle": "2023-06-05T06:46:42.481795Z",
     "shell.execute_reply": "2023-06-05T06:46:42.481043Z"
    },
    "papermill": {
     "duration": 0.018558,
     "end_time": "2023-06-05T06:46:42.483777",
     "exception": false,
     "start_time": "2023-06-05T06:46:42.465219",
     "status": "completed"
    },
    "tags": []
   },
   "outputs": [],
   "source": [
    "import torch.nn as nn\n",
    "torch.manual_seed(16)\n",
    "torch.backends.cudnn.deterministic = True\n",
    "torch.backends.cudnn.benchmark = False"
   ]
  },
  {
   "cell_type": "code",
   "execution_count": 4,
   "id": "b840a126",
   "metadata": {
    "execution": {
     "iopub.execute_input": "2023-06-05T06:46:42.500095Z",
     "iopub.status.busy": "2023-06-05T06:46:42.499822Z",
     "iopub.status.idle": "2023-06-05T06:46:42.516493Z",
     "shell.execute_reply": "2023-06-05T06:46:42.515711Z"
    },
    "papermill": {
     "duration": 0.027388,
     "end_time": "2023-06-05T06:46:42.518628",
     "exception": false,
     "start_time": "2023-06-05T06:46:42.491240",
     "status": "completed"
    },
    "tags": []
   },
   "outputs": [],
   "source": [
    "class CapchaDataset(Dataset):\n",
    "    \"\"\"\n",
    "    Датасет генерирует капчу длины seq_len из набора данных EMNIST\n",
    "    \"\"\"\n",
    "\n",
    "    def __init__(\n",
    "            self,\n",
    "            seq_len: Union[int, Tuple[int, int]],\n",
    "            img_h: int = 32,\n",
    "            img_w: int = 32,\n",
    "            split: str = \"digits\",\n",
    "            samples: int = None,\n",
    "    ):\n",
    "        self.emnist_dataset = datasets.EMNIST(\n",
    "            \"./EMNIST\", split=split, train=True, download=True\n",
    "        )\n",
    "        self.seq_len = seq_len\n",
    "        self.blank_label = 0\n",
    "        self.img_h = img_h\n",
    "        self.img_w = img_w\n",
    "        self.samples = samples\n",
    "        self.num_classes = len(self.emnist_dataset.classes) + 1\n",
    "        if isinstance(seq_len, int):\n",
    "            self._min_seq_len = seq_len\n",
    "            self._max_seq_len = seq_len\n",
    "        elif (\n",
    "                isinstance(seq_len, Tuple)\n",
    "                and len(seq_len) == 2\n",
    "                and isinstance(seq_len[0], int)\n",
    "        ):\n",
    "            self._min_seq_len = seq_len[0]\n",
    "            self._max_seq_len = seq_len[1]\n",
    "\n",
    "    def __len__(self):\n",
    "        \"\"\"\n",
    "        Можно нагенерировать N различных капчей, где N - число сочетаний с повторениями.\n",
    "        Если задано samples - вернуть его\n",
    "        \"\"\"\n",
    "        if self.samples is not None:\n",
    "            return self.samples\n",
    "        return len(self.emnist_dataset.classes) ** self._max_seq_len\n",
    "\n",
    "    def __preprocess(self, random_images: torch.Tensor) -> np.ndarray:\n",
    "        transformed_images = []\n",
    "        for img in random_images:\n",
    "            img = transforms.ToPILImage()(img)\n",
    "            img = TF.rotate(img, -90, fill=[0.0])\n",
    "            img = TF.hflip(img)\n",
    "            img = TF.resize(img, size=(self.img_h, self.img_w))\n",
    "            img = transforms.ToTensor()(img).numpy()\n",
    "            transformed_images.append(img)\n",
    "        images = np.array(transformed_images)\n",
    "        images = np.hstack(\n",
    "            images.reshape((len(transformed_images), self.img_h, self.img_w))\n",
    "        )\n",
    "        full_img = np.zeros(shape=(self.img_h, self.img_w *  self._max_seq_len)).astype(\n",
    "            np.float32\n",
    "        )\n",
    "        full_img[:, 0: images.shape[1]] = images\n",
    "        return full_img\n",
    "\n",
    "    def __getitem__(self, idx):\n",
    "        # Get random seq_len\n",
    "        random_seq_len = np.random.randint(self._min_seq_len, self._max_seq_len + 1)\n",
    "        # Get random ind\n",
    "        random_indices = np.random.randint(\n",
    "            len(self.emnist_dataset.data), size=(random_seq_len,)\n",
    "        )\n",
    "        random_images = self.emnist_dataset.data[random_indices]\n",
    "        random_digits_labels = self.emnist_dataset.targets[random_indices] + 1\n",
    "        labels = torch.zeros((1, self._max_seq_len))\n",
    "        labels = torch.fill(labels, self.blank_label)\n",
    "        labels[0, 0: len(random_digits_labels)] = random_digits_labels\n",
    "        x = self.__preprocess(random_images)\n",
    "        y = labels.numpy().reshape(self._max_seq_len)\n",
    "        return x, y\n"
   ]
  },
  {
   "cell_type": "code",
   "execution_count": 5,
   "id": "44a2c00d",
   "metadata": {
    "execution": {
     "iopub.execute_input": "2023-06-05T06:46:42.534850Z",
     "iopub.status.busy": "2023-06-05T06:46:42.534586Z",
     "iopub.status.idle": "2023-06-05T06:47:01.827128Z",
     "shell.execute_reply": "2023-06-05T06:47:01.826185Z"
    },
    "papermill": {
     "duration": 19.303355,
     "end_time": "2023-06-05T06:47:01.829471",
     "exception": false,
     "start_time": "2023-06-05T06:46:42.526116",
     "status": "completed"
    },
    "tags": []
   },
   "outputs": [
    {
     "name": "stdout",
     "output_type": "stream",
     "text": [
      "Downloading https://www.itl.nist.gov/iaui/vip/cs_links/EMNIST/gzip.zip to ./EMNIST/EMNIST/raw/gzip.zip\n"
     ]
    },
    {
     "name": "stderr",
     "output_type": "stream",
     "text": [
      "100%|██████████| 561753746/561753746 [00:03<00:00, 177461438.10it/s]\n"
     ]
    },
    {
     "name": "stdout",
     "output_type": "stream",
     "text": [
      "Extracting ./EMNIST/EMNIST/raw/gzip.zip to ./EMNIST/EMNIST/raw\n"
     ]
    }
   ],
   "source": [
    "train_ds = CapchaDataset((3, 5))\n",
    "val_ds = CapchaDataset((3, 5))\n",
    "train_data_loader = torch.utils.data.DataLoader(train_ds, batch_size=32)\n",
    "val_data_loader = torch.utils.data.DataLoader(val_ds, batch_size=32)\n"
   ]
  },
  {
   "cell_type": "code",
   "execution_count": 6,
   "id": "73449de2",
   "metadata": {
    "execution": {
     "iopub.execute_input": "2023-06-05T06:47:01.851524Z",
     "iopub.status.busy": "2023-06-05T06:47:01.851225Z",
     "iopub.status.idle": "2023-06-05T06:47:01.939110Z",
     "shell.execute_reply": "2023-06-05T06:47:01.938274Z"
    },
    "papermill": {
     "duration": 0.101104,
     "end_time": "2023-06-05T06:47:01.941124",
     "exception": false,
     "start_time": "2023-06-05T06:47:01.840020",
     "status": "completed"
    },
    "tags": []
   },
   "outputs": [],
   "source": [
    "batch, labels = next(iter(val_data_loader))\n",
    "img = batch[0].cpu().detach().numpy()"
   ]
  },
  {
   "cell_type": "code",
   "execution_count": 7,
   "id": "d02ef34e",
   "metadata": {
    "execution": {
     "iopub.execute_input": "2023-06-05T06:47:01.963596Z",
     "iopub.status.busy": "2023-06-05T06:47:01.962259Z",
     "iopub.status.idle": "2023-06-05T06:47:01.989824Z",
     "shell.execute_reply": "2023-06-05T06:47:01.988879Z"
    },
    "papermill": {
     "duration": 0.040833,
     "end_time": "2023-06-05T06:47:01.992124",
     "exception": false,
     "start_time": "2023-06-05T06:47:01.951291",
     "status": "completed"
    },
    "tags": []
   },
   "outputs": [
    {
     "data": {
      "text/plain": [
       "tensor([ 6., 10.,  1.,  2.,  8.])"
      ]
     },
     "execution_count": 7,
     "metadata": {},
     "output_type": "execute_result"
    }
   ],
   "source": [
    "labels[0]"
   ]
  },
  {
   "cell_type": "code",
   "execution_count": 8,
   "id": "0eb793e7",
   "metadata": {
    "execution": {
     "iopub.execute_input": "2023-06-05T06:47:02.013529Z",
     "iopub.status.busy": "2023-06-05T06:47:02.013234Z",
     "iopub.status.idle": "2023-06-05T06:47:02.270383Z",
     "shell.execute_reply": "2023-06-05T06:47:02.269526Z"
    },
    "papermill": {
     "duration": 0.270267,
     "end_time": "2023-06-05T06:47:02.272512",
     "exception": false,
     "start_time": "2023-06-05T06:47:02.002245",
     "status": "completed"
    },
    "tags": []
   },
   "outputs": [
    {
     "data": {
      "text/plain": [
       "<matplotlib.image.AxesImage at 0x796c49c5b1c0>"
      ]
     },
     "execution_count": 8,
     "metadata": {},
     "output_type": "execute_result"
    },
    {
     "data": {
      "image/png": "[encoded data removed]",
      "text/plain": [
       "<Figure size 640x480 with 1 Axes>"
      ]
     },
     "metadata": {},
     "output_type": "display_data"
    }
   ],
   "source": [
    "img = batch[31].cpu().detach().numpy()\n",
    "plt.imshow(img)"
   ]
  },
  {
   "cell_type": "code",
   "execution_count": 9,
   "id": "ed4d90f3",
   "metadata": {
    "execution": {
     "iopub.execute_input": "2023-06-05T06:47:02.295616Z",
     "iopub.status.busy": "2023-06-05T06:47:02.294755Z",
     "iopub.status.idle": "2023-06-05T06:47:02.301543Z",
     "shell.execute_reply": "2023-06-05T06:47:02.300613Z"
    },
    "papermill": {
     "duration": 0.020382,
     "end_time": "2023-06-05T06:47:02.303608",
     "exception": false,
     "start_time": "2023-06-05T06:47:02.283226",
     "status": "completed"
    },
    "tags": []
   },
   "outputs": [
    {
     "data": {
      "text/plain": [
       "tensor([7., 2., 9., 9., 0.])"
      ]
     },
     "execution_count": 9,
     "metadata": {},
     "output_type": "execute_result"
    }
   ],
   "source": [
    "labels[31]"
   ]
  },
  {
   "cell_type": "code",
   "execution_count": 10,
   "id": "29e2e3ac",
   "metadata": {
    "execution": {
     "iopub.execute_input": "2023-06-05T06:47:02.326750Z",
     "iopub.status.busy": "2023-06-05T06:47:02.325902Z",
     "iopub.status.idle": "2023-06-05T06:47:02.331820Z",
     "shell.execute_reply": "2023-06-05T06:47:02.330921Z"
    },
    "papermill": {
     "duration": 0.01961,
     "end_time": "2023-06-05T06:47:02.333834",
     "exception": false,
     "start_time": "2023-06-05T06:47:02.314224",
     "status": "completed"
    },
    "tags": []
   },
   "outputs": [
    {
     "data": {
      "text/plain": [
       "11"
      ]
     },
     "execution_count": 10,
     "metadata": {},
     "output_type": "execute_result"
    }
   ],
   "source": [
    "train_ds.num_classes"
   ]
  },
  {
   "cell_type": "code",
   "execution_count": 11,
   "id": "21881885",
   "metadata": {
    "execution": {
     "iopub.execute_input": "2023-06-05T06:47:02.356695Z",
     "iopub.status.busy": "2023-06-05T06:47:02.356445Z",
     "iopub.status.idle": "2023-06-05T06:47:02.373772Z",
     "shell.execute_reply": "2023-06-05T06:47:02.372915Z"
    },
    "papermill": {
     "duration": 0.03117,
     "end_time": "2023-06-05T06:47:02.375746",
     "exception": false,
     "start_time": "2023-06-05T06:47:02.344576",
     "status": "completed"
    },
    "tags": []
   },
   "outputs": [],
   "source": [
    "class DeepBiLSTM(nn.Module):\n",
    "\n",
    "    def __init__(self, inF, hidden, out):\n",
    "        super(DeepBiLSTM, self).__init__()\n",
    "        self.rnn = nn.LSTM(inF, hidden, bidirectional=True)\n",
    "        self.embedding = nn.Linear(hidden * 2, out)\n",
    "        \n",
    "    def forward(self, x):\n",
    "        self.rnn.flatten_parameters()\n",
    "        x, _ = self.rnn(x)\n",
    "        l, b, h = x.size()\n",
    "        x = x.view(l * b, h)\n",
    "        x = self.embedding(x)\n",
    "        x = x.view(l, b, -1)\n",
    "        return x\n",
    "\n",
    "class CNN(nn.Module):\n",
    "    def __init__(self):\n",
    "        super(CNN, self).__init__()\n",
    "        self.conv1 = nn.Conv2d(1, 64, kernel_size = 3, stride=1, padding=1)\n",
    "        self.pooling1 = nn.MaxPool2d((2, 2), stride=2)\n",
    "        self.conv2 = nn.Conv2d(64, 128, kernel_size = 3, stride=1, padding=1)\n",
    "        self.pooling2 = nn.MaxPool2d((2, 2), stride=2)\n",
    "        self.conv3 = nn.Conv2d(128, 256, kernel_size = 3, stride=1, padding=1)\n",
    "        self.conv4 = nn.Conv2d(256, 256, kernel_size = 3, stride=1, padding=1)\n",
    "        self.pooling3 = nn.MaxPool2d((1, 2), stride=2)\n",
    "        self.conv5 = nn.Conv2d(256, 512, kernel_size = 3, stride=1, padding=1)\n",
    "        self.batchnorm1 = nn.BatchNorm2d(512)\n",
    "        self.conv6 = nn.Conv2d(512, 512, kernel_size = 3, stride=1, padding=1)\n",
    "        self.batchnorm2 = nn.BatchNorm2d(512)\n",
    "        self.pooling4 = nn.MaxPool2d((1, 2), stride=2)\n",
    "        self.conv7 = nn.Conv2d(512, 512, kernel_size = 2, stride=1, padding=0)\n",
    "    \n",
    "    def forward(self, x):\n",
    "        x = self.conv1(x)\n",
    "        x = self.pooling1(x)\n",
    "        x = self.conv2(x)\n",
    "        x = self.pooling2(x)\n",
    "        x = self.conv3(x)\n",
    "        x = self.conv4(x)\n",
    "        x = self.pooling3(x)\n",
    "        x = self.conv5(x)\n",
    "        x = self.batchnorm1(x)\n",
    "        x = self.conv6(x)\n",
    "        x = self.batchnorm2(x)\n",
    "        x = self.pooling4(x)\n",
    "        x = self.conv7(x)    \n",
    "        return x\n",
    "\n",
    "class CRNN(nn.Module):\n",
    "    def __init__(self):\n",
    "        super(CRNN, self).__init__()\n",
    "        self.cnn = CNN()\n",
    "        self.bilstm1 = DeepBiLSTM(512,256,256)\n",
    "        self.bilstm2 = DeepBiLSTM(256,256,256)\n",
    "        self.mapping = nn.Linear(256, 11)\n",
    "        \n",
    "    def forward(self, x):\n",
    "        x = x.permute(1,0,2,3)\n",
    "        x = self.cnn(x)\n",
    "        x = x.squeeze(2)\n",
    "        x = x.permute(2, 0, 1) \n",
    "        x = self.bilstm1(x)\n",
    "        x = self.bilstm2(x)\n",
    "        x = self.mapping(x)\n",
    "        x = nn.functional.log_softmax(x, 2)\n",
    "        return x\n",
    "    "
   ]
  },
  {
   "cell_type": "code",
   "execution_count": 12,
   "id": "a50800fe",
   "metadata": {
    "execution": {
     "iopub.execute_input": "2023-06-05T06:47:02.399947Z",
     "iopub.status.busy": "2023-06-05T06:47:02.399206Z",
     "iopub.status.idle": "2023-06-05T06:47:02.404781Z",
     "shell.execute_reply": "2023-06-05T06:47:02.404025Z"
    },
    "papermill": {
     "duration": 0.019806,
     "end_time": "2023-06-05T06:47:02.406733",
     "exception": false,
     "start_time": "2023-06-05T06:47:02.386927",
     "status": "completed"
    },
    "tags": []
   },
   "outputs": [],
   "source": [
    "def init_weights(m):\n",
    "    if isinstance(m, nn.Linear):\n",
    "        nn.init.xavier_uniform(m.weight)\n",
    "        m.bias.data.fill_(0.01)\n",
    "    elif isinstance(m, nn.Conv2d):\n",
    "        nn.init.xavier_uniform(m.weight)\n",
    "        m.bias.data.fill_(0.01)"
   ]
  },
  {
   "cell_type": "code",
   "execution_count": 13,
   "id": "e82ca9af",
   "metadata": {
    "execution": {
     "iopub.execute_input": "2023-06-05T06:47:02.430392Z",
     "iopub.status.busy": "2023-06-05T06:47:02.429647Z",
     "iopub.status.idle": "2023-06-05T06:47:02.608341Z",
     "shell.execute_reply": "2023-06-05T06:47:02.607292Z"
    },
    "papermill": {
     "duration": 0.193457,
     "end_time": "2023-06-05T06:47:02.611088",
     "exception": false,
     "start_time": "2023-06-05T06:47:02.417631",
     "status": "completed"
    },
    "tags": []
   },
   "outputs": [
    {
     "name": "stderr",
     "output_type": "stream",
     "text": [
      "/tmp/ipykernel_23/3080275421.py:6: UserWarning: nn.init.xavier_uniform is now deprecated in favor of nn.init.xavier_uniform_.\n",
      "  nn.init.xavier_uniform(m.weight)\n",
      "/tmp/ipykernel_23/3080275421.py:3: UserWarning: nn.init.xavier_uniform is now deprecated in favor of nn.init.xavier_uniform_.\n",
      "  nn.init.xavier_uniform(m.weight)\n"
     ]
    }
   ],
   "source": [
    "\n",
    "# torch.cuda.empty_cache()\n",
    "model = CRNN()\n",
    "model.apply(init_weights)\n",
    "device = \"cuda\" if torch.cuda.is_available() else \"cpu\"\n",
    "optimizer = torch.optim.Adam(model.parameters(), lr = 0.0000001)\n",
    "criterion = nn.CTCLoss(blank = 0, zero_infinity = True).to(device)"
   ]
  },
  {
   "cell_type": "code",
   "execution_count": 14,
   "id": "475b8414",
   "metadata": {
    "execution": {
     "iopub.execute_input": "2023-06-05T06:47:02.638454Z",
     "iopub.status.busy": "2023-06-05T06:47:02.638143Z",
     "iopub.status.idle": "2023-06-05T09:28:01.680634Z",
     "shell.execute_reply": "2023-06-05T09:28:01.679723Z"
    },
    "papermill": {
     "duration": 9659.058894,
     "end_time": "2023-06-05T09:28:01.682977",
     "exception": false,
     "start_time": "2023-06-05T06:47:02.624083",
     "status": "completed"
    },
    "tags": []
   },
   "outputs": [
    {
     "name": "stdout",
     "output_type": "stream",
     "text": [
      "Epoch 0\n"
     ]
    },
    {
     "name": "stderr",
     "output_type": "stream",
     "text": [
      "100%|██████████| 3125/3125 [03:06<00:00, 16.76it/s]\n"
     ]
    },
    {
     "name": "stdout",
     "output_type": "stream",
     "text": [
      "Train loss: 2.2771706467056276\n"
     ]
    },
    {
     "name": "stderr",
     "output_type": "stream",
     "text": [
      "100%|██████████| 3125/3125 [02:16<00:00, 22.97it/s]\n"
     ]
    },
    {
     "name": "stdout",
     "output_type": "stream",
     "text": [
      "Validation loss: 1.8760352897262573\n",
      "Epoch 1\n"
     ]
    },
    {
     "name": "stderr",
     "output_type": "stream",
     "text": [
      "100%|██████████| 3125/3125 [03:01<00:00, 17.25it/s]\n"
     ]
    },
    {
     "name": "stdout",
     "output_type": "stream",
     "text": [
      "Train loss: 1.752054016532898\n"
     ]
    },
    {
     "name": "stderr",
     "output_type": "stream",
     "text": [
      "100%|██████████| 3125/3125 [02:16<00:00, 22.94it/s]\n"
     ]
    },
    {
     "name": "stdout",
     "output_type": "stream",
     "text": [
      "Validation loss: 1.641789468574524\n",
      "Epoch 2\n"
     ]
    },
    {
     "name": "stderr",
     "output_type": "stream",
     "text": [
      "100%|██████████| 3125/3125 [03:00<00:00, 17.34it/s]\n"
     ]
    },
    {
     "name": "stdout",
     "output_type": "stream",
     "text": [
      "Train loss: 1.5510316222000122\n"
     ]
    },
    {
     "name": "stderr",
     "output_type": "stream",
     "text": [
      "100%|██████████| 3125/3125 [02:13<00:00, 23.37it/s]\n"
     ]
    },
    {
     "name": "stdout",
     "output_type": "stream",
     "text": [
      "Validation loss: 1.457533613319397\n",
      "Epoch 3\n"
     ]
    },
    {
     "name": "stderr",
     "output_type": "stream",
     "text": [
      "100%|██████████| 3125/3125 [02:59<00:00, 17.45it/s]\n"
     ]
    },
    {
     "name": "stdout",
     "output_type": "stream",
     "text": [
      "Train loss: 1.3772455500030518\n"
     ]
    },
    {
     "name": "stderr",
     "output_type": "stream",
     "text": [
      "100%|██████████| 3125/3125 [02:14<00:00, 23.30it/s]\n"
     ]
    },
    {
     "name": "stdout",
     "output_type": "stream",
     "text": [
      "Validation loss: 1.2990935476112366\n",
      "Epoch 4\n"
     ]
    },
    {
     "name": "stderr",
     "output_type": "stream",
     "text": [
      "100%|██████████| 3125/3125 [02:59<00:00, 17.43it/s]\n"
     ]
    },
    {
     "name": "stdout",
     "output_type": "stream",
     "text": [
      "Train loss: 1.2301850496101379\n"
     ]
    },
    {
     "name": "stderr",
     "output_type": "stream",
     "text": [
      "100%|██████████| 3125/3125 [02:14<00:00, 23.23it/s]\n"
     ]
    },
    {
     "name": "stdout",
     "output_type": "stream",
     "text": [
      "Validation loss: 1.1586841927528382\n",
      "Epoch 5\n"
     ]
    },
    {
     "name": "stderr",
     "output_type": "stream",
     "text": [
      "100%|██████████| 3125/3125 [02:59<00:00, 17.40it/s]\n"
     ]
    },
    {
     "name": "stdout",
     "output_type": "stream",
     "text": [
      "Train loss: 1.0941382088279723\n"
     ]
    },
    {
     "name": "stderr",
     "output_type": "stream",
     "text": [
      "100%|██████████| 3125/3125 [02:15<00:00, 23.09it/s]\n"
     ]
    },
    {
     "name": "stdout",
     "output_type": "stream",
     "text": [
      "Validation loss: 1.0262515325927735\n",
      "Epoch 6\n"
     ]
    },
    {
     "name": "stderr",
     "output_type": "stream",
     "text": [
      "100%|██████████| 3125/3125 [03:01<00:00, 17.25it/s]\n"
     ]
    },
    {
     "name": "stdout",
     "output_type": "stream",
     "text": [
      "Train loss: 0.9638349032592773\n"
     ]
    },
    {
     "name": "stderr",
     "output_type": "stream",
     "text": [
      "100%|██████████| 3125/3125 [02:15<00:00, 23.04it/s]\n"
     ]
    },
    {
     "name": "stdout",
     "output_type": "stream",
     "text": [
      "Validation loss: 0.9009250296783448\n",
      "Epoch 7\n"
     ]
    },
    {
     "name": "stderr",
     "output_type": "stream",
     "text": [
      "100%|██████████| 3125/3125 [03:00<00:00, 17.30it/s]\n"
     ]
    },
    {
     "name": "stdout",
     "output_type": "stream",
     "text": [
      "Train loss: 0.8432864056587219\n"
     ]
    },
    {
     "name": "stderr",
     "output_type": "stream",
     "text": [
      "100%|██████████| 3125/3125 [02:15<00:00, 23.04it/s]\n"
     ]
    },
    {
     "name": "stdout",
     "output_type": "stream",
     "text": [
      "Validation loss: 0.7843560843849182\n",
      "Epoch 8\n"
     ]
    },
    {
     "name": "stderr",
     "output_type": "stream",
     "text": [
      "100%|██████████| 3125/3125 [03:01<00:00, 17.21it/s]\n"
     ]
    },
    {
     "name": "stdout",
     "output_type": "stream",
     "text": [
      "Train loss: 0.7352087925815582\n"
     ]
    },
    {
     "name": "stderr",
     "output_type": "stream",
     "text": [
      "100%|██████████| 3125/3125 [02:16<00:00, 22.85it/s]\n"
     ]
    },
    {
     "name": "stdout",
     "output_type": "stream",
     "text": [
      "Validation loss: 0.6799942076587677\n",
      "Epoch 9\n"
     ]
    },
    {
     "name": "stderr",
     "output_type": "stream",
     "text": [
      "100%|██████████| 3125/3125 [03:02<00:00, 17.15it/s]\n"
     ]
    },
    {
     "name": "stdout",
     "output_type": "stream",
     "text": [
      "Train loss: 0.6305784382629395\n"
     ]
    },
    {
     "name": "stderr",
     "output_type": "stream",
     "text": [
      "100%|██████████| 3125/3125 [02:17<00:00, 22.76it/s]\n"
     ]
    },
    {
     "name": "stdout",
     "output_type": "stream",
     "text": [
      "Validation loss: 0.5805947115230561\n",
      "Epoch 10\n"
     ]
    },
    {
     "name": "stderr",
     "output_type": "stream",
     "text": [
      "100%|██████████| 3125/3125 [03:02<00:00, 17.10it/s]\n"
     ]
    },
    {
     "name": "stdout",
     "output_type": "stream",
     "text": [
      "Train loss: 0.5428692074918747\n"
     ]
    },
    {
     "name": "stderr",
     "output_type": "stream",
     "text": [
      "100%|██████████| 3125/3125 [02:17<00:00, 22.67it/s]\n"
     ]
    },
    {
     "name": "stdout",
     "output_type": "stream",
     "text": [
      "Validation loss: 0.49345558745384216\n",
      "Epoch 11\n"
     ]
    },
    {
     "name": "stderr",
     "output_type": "stream",
     "text": [
      "100%|██████████| 3125/3125 [03:02<00:00, 17.10it/s]\n"
     ]
    },
    {
     "name": "stdout",
     "output_type": "stream",
     "text": [
      "Train loss: 0.46148159010887146\n"
     ]
    },
    {
     "name": "stderr",
     "output_type": "stream",
     "text": [
      "100%|██████████| 3125/3125 [02:17<00:00, 22.72it/s]\n"
     ]
    },
    {
     "name": "stdout",
     "output_type": "stream",
     "text": [
      "Validation loss: 0.42152507567882536\n",
      "Epoch 12\n"
     ]
    },
    {
     "name": "stderr",
     "output_type": "stream",
     "text": [
      "100%|██████████| 3125/3125 [03:04<00:00, 16.95it/s]\n"
     ]
    },
    {
     "name": "stdout",
     "output_type": "stream",
     "text": [
      "Train loss: 0.39149486235141756\n"
     ]
    },
    {
     "name": "stderr",
     "output_type": "stream",
     "text": [
      "100%|██████████| 3125/3125 [02:18<00:00, 22.56it/s]\n"
     ]
    },
    {
     "name": "stdout",
     "output_type": "stream",
     "text": [
      "Validation loss: 0.35947448662281034\n",
      "Epoch 13\n"
     ]
    },
    {
     "name": "stderr",
     "output_type": "stream",
     "text": [
      "100%|██████████| 3125/3125 [03:03<00:00, 17.00it/s]\n"
     ]
    },
    {
     "name": "stdout",
     "output_type": "stream",
     "text": [
      "Train loss: 0.330584567399025\n"
     ]
    },
    {
     "name": "stderr",
     "output_type": "stream",
     "text": [
      "100%|██████████| 3125/3125 [02:19<00:00, 22.35it/s]\n"
     ]
    },
    {
     "name": "stdout",
     "output_type": "stream",
     "text": [
      "Validation loss: 0.3038342806959152\n",
      "Epoch 14\n"
     ]
    },
    {
     "name": "stderr",
     "output_type": "stream",
     "text": [
      "100%|██████████| 3125/3125 [03:05<00:00, 16.88it/s]\n"
     ]
    },
    {
     "name": "stdout",
     "output_type": "stream",
     "text": [
      "Train loss: 0.2795568359339237\n"
     ]
    },
    {
     "name": "stderr",
     "output_type": "stream",
     "text": [
      "100%|██████████| 3125/3125 [02:19<00:00, 22.41it/s]\n"
     ]
    },
    {
     "name": "stdout",
     "output_type": "stream",
     "text": [
      "Validation loss: 0.2567271571457386\n",
      "Epoch 15\n"
     ]
    },
    {
     "name": "stderr",
     "output_type": "stream",
     "text": [
      "100%|██████████| 3125/3125 [03:04<00:00, 16.95it/s]\n"
     ]
    },
    {
     "name": "stdout",
     "output_type": "stream",
     "text": [
      "Train loss: 0.23670330529212952\n"
     ]
    },
    {
     "name": "stderr",
     "output_type": "stream",
     "text": [
      "100%|██████████| 3125/3125 [02:19<00:00, 22.48it/s]\n"
     ]
    },
    {
     "name": "stdout",
     "output_type": "stream",
     "text": [
      "Validation loss: 0.20844243275165558\n",
      "Epoch 16\n"
     ]
    },
    {
     "name": "stderr",
     "output_type": "stream",
     "text": [
      "100%|██████████| 3125/3125 [03:04<00:00, 16.91it/s]\n"
     ]
    },
    {
     "name": "stdout",
     "output_type": "stream",
     "text": [
      "Train loss: 0.18779956546306611\n"
     ]
    },
    {
     "name": "stderr",
     "output_type": "stream",
     "text": [
      "100%|██████████| 3125/3125 [02:22<00:00, 21.91it/s]\n"
     ]
    },
    {
     "name": "stdout",
     "output_type": "stream",
     "text": [
      "Validation loss: 0.15923738707959653\n",
      "Epoch 17\n"
     ]
    },
    {
     "name": "stderr",
     "output_type": "stream",
     "text": [
      "100%|██████████| 3125/3125 [03:07<00:00, 16.70it/s]\n"
     ]
    },
    {
     "name": "stdout",
     "output_type": "stream",
     "text": [
      "Train loss: 0.12314913975372911\n"
     ]
    },
    {
     "name": "stderr",
     "output_type": "stream",
     "text": [
      "100%|██████████| 3125/3125 [02:20<00:00, 22.18it/s]\n"
     ]
    },
    {
     "name": "stdout",
     "output_type": "stream",
     "text": [
      "Validation loss: 0.08054730101764201\n",
      "Epoch 18\n"
     ]
    },
    {
     "name": "stderr",
     "output_type": "stream",
     "text": [
      "100%|██████████| 3125/3125 [03:05<00:00, 16.85it/s]\n"
     ]
    },
    {
     "name": "stdout",
     "output_type": "stream",
     "text": [
      "Train loss: 0.045323929728269576\n"
     ]
    },
    {
     "name": "stderr",
     "output_type": "stream",
     "text": [
      "100%|██████████| 3125/3125 [02:20<00:00, 22.29it/s]\n"
     ]
    },
    {
     "name": "stdout",
     "output_type": "stream",
     "text": [
      "Validation loss: 0.014307005471214652\n",
      "Epoch 19\n"
     ]
    },
    {
     "name": "stderr",
     "output_type": "stream",
     "text": [
      "100%|██████████| 3125/3125 [03:06<00:00, 16.79it/s]\n"
     ]
    },
    {
     "name": "stdout",
     "output_type": "stream",
     "text": [
      "Train loss: -0.008681970363035798\n"
     ]
    },
    {
     "name": "stderr",
     "output_type": "stream",
     "text": [
      "100%|██████████| 3125/3125 [02:20<00:00, 22.17it/s]\n"
     ]
    },
    {
     "name": "stdout",
     "output_type": "stream",
     "text": [
      "Validation loss: -0.02802222048744559\n",
      "Epoch 20\n"
     ]
    },
    {
     "name": "stderr",
     "output_type": "stream",
     "text": [
      "100%|██████████| 3125/3125 [03:06<00:00, 16.78it/s]\n"
     ]
    },
    {
     "name": "stdout",
     "output_type": "stream",
     "text": [
      "Train loss: -0.0426823411886394\n"
     ]
    },
    {
     "name": "stderr",
     "output_type": "stream",
     "text": [
      "100%|██████████| 3125/3125 [02:20<00:00, 22.17it/s]\n"
     ]
    },
    {
     "name": "stdout",
     "output_type": "stream",
     "text": [
      "Validation loss: -0.05440173889428377\n",
      "Epoch 21\n"
     ]
    },
    {
     "name": "stderr",
     "output_type": "stream",
     "text": [
      "100%|██████████| 3125/3125 [03:06<00:00, 16.76it/s]\n"
     ]
    },
    {
     "name": "stdout",
     "output_type": "stream",
     "text": [
      "Train loss: -0.06500224164113402\n"
     ]
    },
    {
     "name": "stderr",
     "output_type": "stream",
     "text": [
      "100%|██████████| 3125/3125 [02:21<00:00, 22.15it/s]\n"
     ]
    },
    {
     "name": "stdout",
     "output_type": "stream",
     "text": [
      "Validation loss: -0.07229487318262458\n",
      "Epoch 22\n"
     ]
    },
    {
     "name": "stderr",
     "output_type": "stream",
     "text": [
      "100%|██████████| 3125/3125 [03:07<00:00, 16.67it/s]\n"
     ]
    },
    {
     "name": "stdout",
     "output_type": "stream",
     "text": [
      "Train loss: -0.07883475312039256\n"
     ]
    },
    {
     "name": "stderr",
     "output_type": "stream",
     "text": [
      "100%|██████████| 3125/3125 [02:20<00:00, 22.20it/s]\n"
     ]
    },
    {
     "name": "stdout",
     "output_type": "stream",
     "text": [
      "Validation loss: -0.08627088073477149\n",
      "Epoch 23\n"
     ]
    },
    {
     "name": "stderr",
     "output_type": "stream",
     "text": [
      "100%|██████████| 3125/3125 [03:04<00:00, 16.97it/s]\n"
     ]
    },
    {
     "name": "stdout",
     "output_type": "stream",
     "text": [
      "Train loss: -0.0902663797366619\n"
     ]
    },
    {
     "name": "stderr",
     "output_type": "stream",
     "text": [
      "100%|██████████| 3125/3125 [02:17<00:00, 22.66it/s]\n"
     ]
    },
    {
     "name": "stdout",
     "output_type": "stream",
     "text": [
      "Validation loss: -0.09477252719283104\n",
      "Epoch 24\n"
     ]
    },
    {
     "name": "stderr",
     "output_type": "stream",
     "text": [
      "100%|██████████| 3125/3125 [03:05<00:00, 16.84it/s]\n"
     ]
    },
    {
     "name": "stdout",
     "output_type": "stream",
     "text": [
      "Train loss: -0.09947702761054039\n"
     ]
    },
    {
     "name": "stderr",
     "output_type": "stream",
     "text": [
      "100%|██████████| 3125/3125 [02:17<00:00, 22.65it/s]\n"
     ]
    },
    {
     "name": "stdout",
     "output_type": "stream",
     "text": [
      "Validation loss: -0.10342385413631797\n",
      "Epoch 25\n"
     ]
    },
    {
     "name": "stderr",
     "output_type": "stream",
     "text": [
      "100%|██████████| 3125/3125 [03:02<00:00, 17.14it/s]\n"
     ]
    },
    {
     "name": "stdout",
     "output_type": "stream",
     "text": [
      "Train loss: -0.10553321983397007\n"
     ]
    },
    {
     "name": "stderr",
     "output_type": "stream",
     "text": [
      "100%|██████████| 3125/3125 [02:19<00:00, 22.39it/s]\n"
     ]
    },
    {
     "name": "stdout",
     "output_type": "stream",
     "text": [
      "Validation loss: -0.1084205868268013\n",
      "Epoch 26\n"
     ]
    },
    {
     "name": "stderr",
     "output_type": "stream",
     "text": [
      "100%|██████████| 3125/3125 [03:03<00:00, 17.02it/s]\n"
     ]
    },
    {
     "name": "stdout",
     "output_type": "stream",
     "text": [
      "Train loss: -0.11019260937929154\n"
     ]
    },
    {
     "name": "stderr",
     "output_type": "stream",
     "text": [
      "100%|██████████| 3125/3125 [02:18<00:00, 22.53it/s]\n"
     ]
    },
    {
     "name": "stdout",
     "output_type": "stream",
     "text": [
      "Validation loss: -0.11334830039650202\n",
      "Epoch 27\n"
     ]
    },
    {
     "name": "stderr",
     "output_type": "stream",
     "text": [
      "100%|██████████| 3125/3125 [03:04<00:00, 16.97it/s]\n"
     ]
    },
    {
     "name": "stdout",
     "output_type": "stream",
     "text": [
      "Train loss: -0.11432886078760028\n"
     ]
    },
    {
     "name": "stderr",
     "output_type": "stream",
     "text": [
      "100%|██████████| 3125/3125 [02:18<00:00, 22.54it/s]\n"
     ]
    },
    {
     "name": "stdout",
     "output_type": "stream",
     "text": [
      "Validation loss: -0.11743929976537823\n",
      "Epoch 28\n"
     ]
    },
    {
     "name": "stderr",
     "output_type": "stream",
     "text": [
      "100%|██████████| 3125/3125 [03:05<00:00, 16.84it/s]\n"
     ]
    },
    {
     "name": "stdout",
     "output_type": "stream",
     "text": [
      "Train loss: -0.11800120702564716\n"
     ]
    },
    {
     "name": "stderr",
     "output_type": "stream",
     "text": [
      "100%|██████████| 3125/3125 [02:18<00:00, 22.52it/s]\n"
     ]
    },
    {
     "name": "stdout",
     "output_type": "stream",
     "text": [
      "Validation loss: -0.12007160170465708\n",
      "Epoch 29\n"
     ]
    },
    {
     "name": "stderr",
     "output_type": "stream",
     "text": [
      "100%|██████████| 3125/3125 [03:03<00:00, 17.04it/s]\n"
     ]
    },
    {
     "name": "stdout",
     "output_type": "stream",
     "text": [
      "Train loss: -0.12120256345421075\n"
     ]
    },
    {
     "name": "stderr",
     "output_type": "stream",
     "text": [
      "100%|██████████| 3125/3125 [02:19<00:00, 22.40it/s]"
     ]
    },
    {
     "name": "stdout",
     "output_type": "stream",
     "text": [
      "Validation loss: -0.12377079118013382\n"
     ]
    },
    {
     "name": "stderr",
     "output_type": "stream",
     "text": [
      "\n"
     ]
    }
   ],
   "source": [
    "epoch = 30\n",
    "losses = []\n",
    "model.to(device)\n",
    "for x in range(epoch):\n",
    "    model.train()\n",
    "    epoch_losses_train = []\n",
    "    print(f\"Epoch {x}\")\n",
    "    for i, data in enumerate(tqdm(train_data_loader)):\n",
    "        optimizer.zero_grad()\n",
    "        batch, labels = data\n",
    "        output = model(batch[None,:,:,:].to(device))\n",
    "        input_length = torch.full(size = (output.size(1),), \n",
    "                                  fill_value = output.size(0),\n",
    "                                 dtype = torch.int32)\n",
    "        targets_length = torch.full(size = (labels.size(0),), \n",
    "                                  fill_value = labels.size(1),\n",
    "                                 dtype = torch.int32)\n",
    "        loss =  criterion( output, labels.to(device), input_length, targets_length)\n",
    "        loss.backward()\n",
    "        optimizer.step()\n",
    "        losses.append(loss.item())\n",
    "        epoch_losses_train.append(loss.item())\n",
    "    print(\"Train loss:\", np.mean(epoch_losses_train))\n",
    "    epoch_losses_val = []\n",
    "    for i, data in enumerate(tqdm(val_data_loader)):\n",
    "        model.eval()\n",
    "        batch, labels = data\n",
    "        output = model(batch[None,:,:,:].to(device))\n",
    "        input_length = torch.full(size = (output.size(1),), \n",
    "                                  fill_value = output.size(0),\n",
    "                                 dtype = torch.int32)\n",
    "        targets_length = torch.full(size = (labels.size(0),), \n",
    "                                  fill_value = labels.size(1),\n",
    "                                 dtype = torch.int32)\n",
    "\n",
    "        loss =  criterion( output, labels.to(device), input_length, targets_length)\n",
    "        epoch_losses_val.append(loss.item())\n",
    "    print(\"Validation loss:\", np.mean(epoch_losses_val))\n",
    "    \n",
    "\n"
   ]
  },
  {
   "cell_type": "code",
   "execution_count": 15,
   "id": "b543e057",
   "metadata": {
    "execution": {
     "iopub.execute_input": "2023-06-05T09:28:14.015875Z",
     "iopub.status.busy": "2023-06-05T09:28:14.015524Z",
     "iopub.status.idle": "2023-06-05T09:28:14.366751Z",
     "shell.execute_reply": "2023-06-05T09:28:14.365898Z"
    },
    "papermill": {
     "duration": 6.455043,
     "end_time": "2023-06-05T09:28:14.368816",
     "exception": false,
     "start_time": "2023-06-05T09:28:07.913773",
     "status": "completed"
    },
    "tags": []
   },
   "outputs": [
    {
     "data": {
      "text/plain": [
       "[<matplotlib.lines.Line2D at 0x796c493932e0>]"
      ]
     },
     "execution_count": 15,
     "metadata": {},
     "output_type": "execute_result"
    },
    {
     "data": {
      "image/png": "[encoded data removed]",
      "text/plain": [
       "<Figure size 640x480 with 1 Axes>"
      ]
     },
     "metadata": {},
     "output_type": "display_data"
    }
   ],
   "source": [
    "plt.plot(losses)"
   ]
  },
  {
   "cell_type": "code",
   "execution_count": 16,
   "id": "74007abb",
   "metadata": {
    "execution": {
     "iopub.execute_input": "2023-06-05T09:28:27.144257Z",
     "iopub.status.busy": "2023-06-05T09:28:27.143807Z",
     "iopub.status.idle": "2023-06-05T09:28:27.153191Z",
     "shell.execute_reply": "2023-06-05T09:28:27.152407Z"
    },
    "papermill": {
     "duration": 6.532304,
     "end_time": "2023-06-05T09:28:27.155625",
     "exception": false,
     "start_time": "2023-06-05T09:28:20.623321",
     "status": "completed"
    },
    "tags": []
   },
   "outputs": [
    {
     "data": {
      "text/plain": [
       "32"
      ]
     },
     "execution_count": 16,
     "metadata": {},
     "output_type": "execute_result"
    }
   ],
   "source": [
    "len(input_length)"
   ]
  },
  {
   "cell_type": "code",
   "execution_count": 17,
   "id": "10a15056",
   "metadata": {
    "execution": {
     "iopub.execute_input": "2023-06-05T09:28:39.763709Z",
     "iopub.status.busy": "2023-06-05T09:28:39.762741Z",
     "iopub.status.idle": "2023-06-05T09:28:39.769047Z",
     "shell.execute_reply": "2023-06-05T09:28:39.768179Z"
    },
    "papermill": {
     "duration": 6.257509,
     "end_time": "2023-06-05T09:28:39.771011",
     "exception": false,
     "start_time": "2023-06-05T09:28:33.513502",
     "status": "completed"
    },
    "tags": []
   },
   "outputs": [
    {
     "data": {
      "text/plain": [
       "32"
      ]
     },
     "execution_count": 17,
     "metadata": {},
     "output_type": "execute_result"
    }
   ],
   "source": [
    "output.size(1)"
   ]
  },
  {
   "cell_type": "markdown",
   "id": "6f629e3d",
   "metadata": {
    "papermill": {
     "duration": 6.181916,
     "end_time": "2023-06-05T09:28:52.063049",
     "exception": false,
     "start_time": "2023-06-05T09:28:45.881133",
     "status": "completed"
    },
    "tags": []
   },
   "source": [
    "## Test model"
   ]
  },
  {
   "cell_type": "code",
   "execution_count": 18,
   "id": "aaa43d2b",
   "metadata": {
    "execution": {
     "iopub.execute_input": "2023-06-05T09:29:04.989836Z",
     "iopub.status.busy": "2023-06-05T09:29:04.989456Z",
     "iopub.status.idle": "2023-06-05T09:29:05.035942Z",
     "shell.execute_reply": "2023-06-05T09:29:05.034983Z"
    },
    "papermill": {
     "duration": 6.321022,
     "end_time": "2023-06-05T09:29:05.038187",
     "exception": false,
     "start_time": "2023-06-05T09:28:58.717165",
     "status": "completed"
    },
    "tags": []
   },
   "outputs": [],
   "source": [
    "batch, labels = next(iter(val_data_loader))"
   ]
  },
  {
   "cell_type": "code",
   "execution_count": 19,
   "id": "0ec9cce2",
   "metadata": {
    "execution": {
     "iopub.execute_input": "2023-06-05T09:29:17.459694Z",
     "iopub.status.busy": "2023-06-05T09:29:17.459341Z",
     "iopub.status.idle": "2023-06-05T09:29:19.494064Z",
     "shell.execute_reply": "2023-06-05T09:29:19.492917Z"
    },
    "papermill": {
     "duration": 8.213618,
     "end_time": "2023-06-05T09:29:19.497252",
     "exception": false,
     "start_time": "2023-06-05T09:29:11.283634",
     "status": "completed"
    },
    "tags": []
   },
   "outputs": [
    {
     "name": "stderr",
     "output_type": "stream",
     "text": [
      "/tmp/ipykernel_23/1600311747.py:2: RuntimeWarning: More than 20 figures have been opened. Figures created through the pyplot interface (`matplotlib.pyplot.figure`) are retained until explicitly closed and may consume too much memory. (To control this warning, see the rcParam `figure.max_open_warning`). Consider using `matplotlib.pyplot.close()`.\n",
      "  plt.figure()\n"
     ]
    },
    {
     "data": {
      "image/png": "[encoded data removed]",
      "text/plain": [
       "<Figure size 640x480 with 1 Axes>"
      ]
     },
     "metadata": {},
     "output_type": "display_data"
    },
    {
     "data": {
      "image/png": "[encoded data removed]",
      "text/plain": [
       "<Figure size 640x480 with 1 Axes>"
      ]
     },
     "metadata": {},
     "output_type": "display_data"
    },
    {
     "data": {
      "image/png": "[encoded data removed]",
      "text/plain": [
       "<Figure size 640x480 with 1 Axes>"
      ]
     },
     "metadata": {},
     "output_type": "display_data"
    },
    {
     "data": {
      "image/png": "[encoded data removed]",
      "text/plain": [
       "<Figure size 640x480 with 1 Axes>"
      ]
     },
     "metadata": {},
     "output_type": "display_data"
    },
    {
     "data": {
      "image/png": "[encoded data removed]",
      "text/plain": [
       "<Figure size 640x480 with 1 Axes>"
      ]
     },
     "metadata": {},
     "output_type": "display_data"
    },
    {
     "data": {
      "image/png": "[encoded data removed]",
      "text/plain": [
       "<Figure size 640x480 with 1 Axes>"
      ]
     },
     "metadata": {},
     "output_type": "display_data"
    },
    {
     "data": {
      "image/png": "[encoded data removed]",
      "text/plain": [
       "<Figure size 640x480 with 1 Axes>"
      ]
     },
     "metadata": {},
     "output_type": "display_data"
    },
    {
     "data": {
      "image/png": "[encoded data removed]",
      "text/plain": [
       "<Figure size 640x480 with 1 Axes>"
      ]
     },
     "metadata": {},
     "output_type": "display_data"
    },
    {
     "data": {
      "image/png": "[encoded data removed]",
      "text/plain": [
       "<Figure size 640x480 with 1 Axes>"
      ]
     },
     "metadata": {},
     "output_type": "display_data"
    },
    {
     "data": {
      "image/png": "[encoded data removed]",
      "text/plain": [
       "<Figure size 640x480 with 1 Axes>"
      ]
     },
     "metadata": {},
     "output_type": "display_data"
    },
    {
     "data": {
      "image/png": "[encoded data removed]",
      "text/plain": [
       "<Figure size 640x480 with 1 Axes>"
      ]
     },
     "metadata": {},
     "output_type": "display_data"
    },
    {
     "data": {
      "image/png": "[encoded data removed]",
      "text/plain": [
       "<Figure size 640x480 with 1 Axes>"
      ]
     },
     "metadata": {},
     "output_type": "display_data"
    },
    {
     "data": {
      "image/png": "[encoded data removed]",
      "text/plain": [
       "<Figure size 640x480 with 1 Axes>"
      ]
     },
     "metadata": {},
     "output_type": "display_data"
    },
    {
     "data": {
      "image/png": "[encoded data removed]",
      "text/plain": [
       "<Figure size 640x480 with 1 Axes>"
      ]
     },
     "metadata": {},
     "output_type": "display_data"
    },
    {
     "data": {
      "image/png": "[encoded data removed]",
      "text/plain": [
       "<Figure size 640x480 with 1 Axes>"
      ]
     },
     "metadata": {},
     "output_type": "display_data"
    },
    {
     "data": {
      "image/png": "[encoded data removed]",
      "text/plain": [
       "<Figure size 640x480 with 1 Axes>"
      ]
     },
     "metadata": {},
     "output_type": "display_data"
    },
    {
     "data": {
      "image/png": "[encoded data removed]",
      "text/plain": [
       "<Figure size 640x480 with 1 Axes>"
      ]
     },
     "metadata": {},
     "output_type": "display_data"
    },
    {
     "data": {
      "image/png": "[encoded data removed]",
      "text/plain": [
       "<Figure size 640x480 with 1 Axes>"
      ]
     },
     "metadata": {},
     "output_type": "display_data"
    },
    {
     "data": {
      "image/png": "[encoded data removed]",
      "text/plain": [
       "<Figure size 640x480 with 1 Axes>"
      ]
     },
     "metadata": {},
     "output_type": "display_data"
    },
    {
     "data": {
      "image/png": "[encoded data removed]",
      "text/plain": [
       "<Figure size 640x480 with 1 Axes>"
      ]
     },
     "metadata": {},
     "output_type": "display_data"
    },
    {
     "data": {
      "image/png": "[encoded data removed]",
      "text/plain": [
       "<Figure size 640x480 with 1 Axes>"
      ]
     },
     "metadata": {},
     "output_type": "display_data"
    },
    {
     "data": {
      "image/png": "[encoded data removed]",
      "text/plain": [
       "<Figure size 640x480 with 1 Axes>"
      ]
     },
     "metadata": {},
     "output_type": "display_data"
    },
    {
     "data": {
      "image/png": "[encoded data removed]",
      "text/plain": [
       "<Figure size 640x480 with 1 Axes>"
      ]
     },
     "metadata": {},
     "output_type": "display_data"
    },
    {
     "data": {
      "image/png": "[encoded data removed]",
      "text/plain": [
       "<Figure size 640x480 with 1 Axes>"
      ]
     },
     "metadata": {},
     "output_type": "display_data"
    },
    {
     "data": {
      "image/png": "[encoded data removed]",
      "text/plain": [
       "<Figure size 640x480 with 1 Axes>"
      ]
     },
     "metadata": {},
     "output_type": "display_data"
    },
    {
     "data": {
      "image/png": "[encoded data removed]",
      "text/plain": [
       "<Figure size 640x480 with 1 Axes>"
      ]
     },
     "metadata": {},
     "output_type": "display_data"
    },
    {
     "data": {
      "image/png": "[encoded data removed]",
      "text/plain": [
       "<Figure size 640x480 with 1 Axes>"
      ]
     },
     "metadata": {},
     "output_type": "display_data"
    },
    {
     "data": {
      "image/png": "[encoded data removed]",
      "text/plain": [
       "<Figure size 640x480 with 1 Axes>"
      ]
     },
     "metadata": {},
     "output_type": "display_data"
    },
    {
     "data": {
      "image/png": "[encoded data removed]",
      "text/plain": [
       "<Figure size 640x480 with 1 Axes>"
      ]
     },
     "metadata": {},
     "output_type": "display_data"
    },
    {
     "data": {
      "image/png": "[encoded data removed]",
      "text/plain": [
       "<Figure size 640x480 with 1 Axes>"
      ]
     },
     "metadata": {},
     "output_type": "display_data"
    },
    {
     "data": {
      "image/png": "[encoded data removed]",
      "text/plain": [
       "<Figure size 640x480 with 1 Axes>"
      ]
     },
     "metadata": {},
     "output_type": "display_data"
    },
    {
     "data": {
      "image/png": "[encoded data removed]",
      "text/plain": [
       "<Figure size 640x480 with 1 Axes>"
      ]
     },
     "metadata": {},
     "output_type": "display_data"
    }
   ],
   "source": [
    "for x in batch:\n",
    "    plt.figure()\n",
    "    plt.axis('off')\n",
    "    plt.imshow(x)"
   ]
  },
  {
   "cell_type": "code",
   "execution_count": 20,
   "id": "882defcd",
   "metadata": {
    "execution": {
     "iopub.execute_input": "2023-06-05T09:29:32.551130Z",
     "iopub.status.busy": "2023-06-05T09:29:32.550759Z",
     "iopub.status.idle": "2023-06-05T09:29:32.559873Z",
     "shell.execute_reply": "2023-06-05T09:29:32.559069Z"
    },
    "papermill": {
     "duration": 6.628872,
     "end_time": "2023-06-05T09:29:32.561910",
     "exception": false,
     "start_time": "2023-06-05T09:29:25.933038",
     "status": "completed"
    },
    "tags": []
   },
   "outputs": [],
   "source": [
    "model.eval()\n",
    "output = model(batch[None,:,:,:].to(\"cuda\"))"
   ]
  },
  {
   "cell_type": "code",
   "execution_count": 21,
   "id": "6b959afe",
   "metadata": {
    "execution": {
     "iopub.execute_input": "2023-06-05T09:29:44.836572Z",
     "iopub.status.busy": "2023-06-05T09:29:44.836215Z",
     "iopub.status.idle": "2023-06-05T09:29:45.806333Z",
     "shell.execute_reply": "2023-06-05T09:29:45.805401Z"
    },
    "papermill": {
     "duration": 7.131277,
     "end_time": "2023-06-05T09:29:45.808622",
     "exception": false,
     "start_time": "2023-06-05T09:29:38.677345",
     "status": "completed"
    },
    "tags": []
   },
   "outputs": [],
   "source": [
    "from sklearn.preprocessing import LabelEncoder"
   ]
  },
  {
   "cell_type": "code",
   "execution_count": 22,
   "id": "3bf8003f",
   "metadata": {
    "execution": {
     "iopub.execute_input": "2023-06-05T09:29:58.156073Z",
     "iopub.status.busy": "2023-06-05T09:29:58.155230Z",
     "iopub.status.idle": "2023-06-05T09:29:58.181940Z",
     "shell.execute_reply": "2023-06-05T09:29:58.179634Z"
    },
    "papermill": {
     "duration": 6.245645,
     "end_time": "2023-06-05T09:29:58.185053",
     "exception": false,
     "start_time": "2023-06-05T09:29:51.939408",
     "status": "completed"
    },
    "tags": []
   },
   "outputs": [
    {
     "data": {
      "text/html": [
       "<style>#sk-container-id-1 {color: black;background-color: white;}#sk-container-id-1 pre{padding: 0;}#sk-container-id-1 div.sk-toggleable {background-color: white;}#sk-container-id-1 label.sk-toggleable__label {cursor: pointer;display: block;width: 100%;margin-bottom: 0;padding: 0.3em;box-sizing: border-box;text-align: center;}#sk-container-id-1 label.sk-toggleable__label-arrow:before {content: \"▸\";float: left;margin-right: 0.25em;color: #696969;}#sk-container-id-1 label.sk-toggleable__label-arrow:hover:before {color: black;}#sk-container-id-1 div.sk-estimator:hover label.sk-toggleable__label-arrow:before {color: black;}#sk-container-id-1 div.sk-toggleable__content {max-height: 0;max-width: 0;overflow: hidden;text-align: left;background-color: #f0f8ff;}#sk-container-id-1 div.sk-toggleable__content pre {margin: 0.2em;color: black;border-radius: 0.25em;background-color: #f0f8ff;}#sk-container-id-1 input.sk-toggleable__control:checked~div.sk-toggleable__content {max-height: 200px;max-width: 100%;overflow: auto;}#sk-container-id-1 input.sk-toggleable__control:checked~label.sk-toggleable__label-arrow:before {content: \"▾\";}#sk-container-id-1 div.sk-estimator input.sk-toggleable__control:checked~label.sk-toggleable__label {background-color: #d4ebff;}#sk-container-id-1 div.sk-label input.sk-toggleable__control:checked~label.sk-toggleable__label {background-color: #d4ebff;}#sk-container-id-1 input.sk-hidden--visually {border: 0;clip: rect(1px 1px 1px 1px);clip: rect(1px, 1px, 1px, 1px);height: 1px;margin: -1px;overflow: hidden;padding: 0;position: absolute;width: 1px;}#sk-container-id-1 div.sk-estimator {font-family: monospace;background-color: #f0f8ff;border: 1px dotted black;border-radius: 0.25em;box-sizing: border-box;margin-bottom: 0.5em;}#sk-container-id-1 div.sk-estimator:hover {background-color: #d4ebff;}#sk-container-id-1 div.sk-parallel-item::after {content: \"\";width: 100%;border-bottom: 1px solid gray;flex-grow: 1;}#sk-container-id-1 div.sk-label:hover label.sk-toggleable__label {background-color: #d4ebff;}#sk-container-id-1 div.sk-serial::before {content: \"\";position: absolute;border-left: 1px solid gray;box-sizing: border-box;top: 0;bottom: 0;left: 50%;z-index: 0;}#sk-container-id-1 div.sk-serial {display: flex;flex-direction: column;align-items: center;background-color: white;padding-right: 0.2em;padding-left: 0.2em;position: relative;}#sk-container-id-1 div.sk-item {position: relative;z-index: 1;}#sk-container-id-1 div.sk-parallel {display: flex;align-items: stretch;justify-content: center;background-color: white;position: relative;}#sk-container-id-1 div.sk-item::before, #sk-container-id-1 div.sk-parallel-item::before {content: \"\";position: absolute;border-left: 1px solid gray;box-sizing: border-box;top: 0;bottom: 0;left: 50%;z-index: -1;}#sk-container-id-1 div.sk-parallel-item {display: flex;flex-direction: column;z-index: 1;position: relative;background-color: white;}#sk-container-id-1 div.sk-parallel-item:first-child::after {align-self: flex-end;width: 50%;}#sk-container-id-1 div.sk-parallel-item:last-child::after {align-self: flex-start;width: 50%;}#sk-container-id-1 div.sk-parallel-item:only-child::after {width: 0;}#sk-container-id-1 div.sk-dashed-wrapped {border: 1px dashed gray;margin: 0 0.4em 0.5em 0.4em;box-sizing: border-box;padding-bottom: 0.4em;background-color: white;}#sk-container-id-1 div.sk-label label {font-family: monospace;font-weight: bold;display: inline-block;line-height: 1.2em;}#sk-container-id-1 div.sk-label-container {text-align: center;}#sk-container-id-1 div.sk-container {/* jupyter's `normalize.less` sets `[hidden] { display: none; }` but bootstrap.min.css set `[hidden] { display: none !important; }` so we also need the `!important` here to be able to override the default hidden behavior on the sphinx rendered scikit-learn.org. See: https://github.com/scikit-learn/scikit-learn/issues/21755 */display: inline-block !important;position: relative;}#sk-container-id-1 div.sk-text-repr-fallback {display: none;}</style><div id=\"sk-container-id-1\" class=\"sk-top-container\"><div class=\"sk-text-repr-fallback\"><pre>LabelEncoder()</pre><b>In a Jupyter environment, please rerun this cell to show the HTML representation or trust the notebook. <br />On GitHub, the HTML representation is unable to render, please try loading this page with nbviewer.org.</b></div><div class=\"sk-container\" hidden><div class=\"sk-item\"><div class=\"sk-estimator sk-toggleable\"><input class=\"sk-toggleable__control sk-hidden--visually\" id=\"sk-estimator-id-1\" type=\"checkbox\" checked><label for=\"sk-estimator-id-1\" class=\"sk-toggleable__label sk-toggleable__label-arrow\">LabelEncoder</label><div class=\"sk-toggleable__content\"><pre>LabelEncoder()</pre></div></div></div></div></div>"
      ],
      "text/plain": [
       "LabelEncoder()"
      ]
     },
     "execution_count": 22,
     "metadata": {},
     "output_type": "execute_result"
    }
   ],
   "source": [
    "encoder= LabelEncoder()\n",
    "encoder.fit([0,1,2,3,4,5,6,7,8,9,10])"
   ]
  },
  {
   "cell_type": "code",
   "execution_count": 23,
   "id": "49bc075c",
   "metadata": {
    "execution": {
     "iopub.execute_input": "2023-06-05T09:30:11.021267Z",
     "iopub.status.busy": "2023-06-05T09:30:11.020913Z",
     "iopub.status.idle": "2023-06-05T09:30:11.031078Z",
     "shell.execute_reply": "2023-06-05T09:30:11.030226Z"
    },
    "papermill": {
     "duration": 6.198138,
     "end_time": "2023-06-05T09:30:11.033075",
     "exception": false,
     "start_time": "2023-06-05T09:30:04.834937",
     "status": "completed"
    },
    "tags": []
   },
   "outputs": [],
   "source": [
    "def remove_duplicates(x):\n",
    "    if len(x) < 2:\n",
    "        return x\n",
    "    fin = \"\"\n",
    "    for j in x:\n",
    "        if fin == \"\":\n",
    "            fin = j\n",
    "        else:\n",
    "            if j == fin[-1]:\n",
    "                continue\n",
    "            else:\n",
    "                fin = fin + j\n",
    "    return fin\n",
    "\n",
    "\n",
    "def decode_predictions(preds, encoder):\n",
    "    preds = preds.permute(1, 0, 2)\n",
    "    preds = torch.softmax(preds, 2)\n",
    "    preds = torch.argmax(preds, 2)\n",
    "    preds = preds.detach().cpu().numpy()\n",
    "    cap_preds = []\n",
    "    for j in range(preds.shape[0]):\n",
    "        temp = []\n",
    "        for k in preds[j, :]:\n",
    "            k = k - 1\n",
    "            if k == -1:\n",
    "                temp.append(\"§\")\n",
    "            else:\n",
    "                p = encoder.inverse_transform([k])[0]\n",
    "                temp.append(str(p))\n",
    "        tp = \"\".join(temp).replace(\"§\", \"\")\n",
    "        cap_preds.append(remove_duplicates(tp))\n",
    "    return cap_preds\n",
    "    "
   ]
  },
  {
   "cell_type": "code",
   "execution_count": 24,
   "id": "3587b0d9",
   "metadata": {
    "execution": {
     "iopub.execute_input": "2023-06-05T09:30:23.424712Z",
     "iopub.status.busy": "2023-06-05T09:30:23.424305Z",
     "iopub.status.idle": "2023-06-05T09:30:23.430120Z",
     "shell.execute_reply": "2023-06-05T09:30:23.429270Z"
    },
    "papermill": {
     "duration": 6.229531,
     "end_time": "2023-06-05T09:30:23.432023",
     "exception": false,
     "start_time": "2023-06-05T09:30:17.202492",
     "status": "completed"
    },
    "tags": []
   },
   "outputs": [
    {
     "data": {
      "text/plain": [
       "torch.Size([9, 32, 11])"
      ]
     },
     "execution_count": 24,
     "metadata": {},
     "output_type": "execute_result"
    }
   ],
   "source": [
    "output.size()"
   ]
  },
  {
   "cell_type": "code",
   "execution_count": 25,
   "id": "aebe96f0",
   "metadata": {
    "execution": {
     "iopub.execute_input": "2023-06-05T09:30:36.293747Z",
     "iopub.status.busy": "2023-06-05T09:30:36.293369Z",
     "iopub.status.idle": "2023-06-05T09:30:36.314067Z",
     "shell.execute_reply": "2023-06-05T09:30:36.313125Z"
    },
    "papermill": {
     "duration": 6.661379,
     "end_time": "2023-06-05T09:30:36.316088",
     "exception": false,
     "start_time": "2023-06-05T09:30:29.654709",
     "status": "completed"
    },
    "tags": []
   },
   "outputs": [
    {
     "data": {
      "text/plain": [
       "['020',\n",
       " '17585',\n",
       " '870',\n",
       " '5938',\n",
       " '16',\n",
       " '735',\n",
       " '02',\n",
       " '82989',\n",
       " '685',\n",
       " '3043',\n",
       " '4374',\n",
       " '79848',\n",
       " '397',\n",
       " '525',\n",
       " '510',\n",
       " '031',\n",
       " '14',\n",
       " '69817',\n",
       " '925',\n",
       " '3472',\n",
       " '0909',\n",
       " '2762',\n",
       " '657',\n",
       " '607',\n",
       " '149',\n",
       " '16595',\n",
       " '0925',\n",
       " '9724',\n",
       " '45871',\n",
       " '70857',\n",
       " '7617',\n",
       " '10279']"
      ]
     },
     "execution_count": 25,
     "metadata": {},
     "output_type": "execute_result"
    }
   ],
   "source": [
    "decode_predictions(output, encoder)"
   ]
  },
  {
   "cell_type": "code",
   "execution_count": 26,
   "id": "0bc053ed",
   "metadata": {
    "execution": {
     "iopub.execute_input": "2023-06-05T09:30:48.686630Z",
     "iopub.status.busy": "2023-06-05T09:30:48.686188Z",
     "iopub.status.idle": "2023-06-05T09:30:48.695814Z",
     "shell.execute_reply": "2023-06-05T09:30:48.694926Z"
    },
    "papermill": {
     "duration": 6.238566,
     "end_time": "2023-06-05T09:30:48.697772",
     "exception": false,
     "start_time": "2023-06-05T09:30:42.459206",
     "status": "completed"
    },
    "tags": []
   },
   "outputs": [
    {
     "data": {
      "text/plain": [
       "tensor([[ 1.,  3.,  1.,  0.,  0.],\n",
       "        [ 2.,  8.,  6.,  9.,  6.],\n",
       "        [ 9.,  8.,  1.,  0.,  0.],\n",
       "        [ 6., 10.,  4.,  9.,  0.],\n",
       "        [ 2.,  7.,  7.,  7.,  0.],\n",
       "        [ 8.,  4.,  6.,  0.,  0.],\n",
       "        [ 1.,  3.,  9.,  0.,  0.],\n",
       "        [ 9.,  3., 10.,  9., 10.],\n",
       "        [ 7.,  9.,  6.,  6.,  0.],\n",
       "        [ 4.,  1.,  5.,  4.,  0.],\n",
       "        [ 5.,  5.,  4., 10.,  5.],\n",
       "        [ 8., 10.,  9.,  5.,  9.],\n",
       "        [ 4., 10.,  8.,  8.,  0.],\n",
       "        [ 6.,  3.,  6.,  0.,  0.],\n",
       "        [ 6.,  2.,  1.,  0.,  0.],\n",
       "        [ 1.,  4.,  2.,  0.,  0.],\n",
       "        [ 2.,  2.,  2.,  5.,  0.],\n",
       "        [ 7., 10.,  9.,  2.,  8.],\n",
       "        [10.,  3.,  3.,  6.,  0.],\n",
       "        [ 4.,  5., 10.,  3.,  0.],\n",
       "        [ 1., 10.,  1., 10.,  0.],\n",
       "        [ 3.,  8.,  7.,  7.,  3.],\n",
       "        [ 7.,  6.,  8.,  0.,  0.],\n",
       "        [ 7.,  1.,  1.,  8.,  8.],\n",
       "        [ 2.,  5., 10.,  0.,  0.],\n",
       "        [ 2.,  7.,  6., 10.,  6.],\n",
       "        [ 1., 10.,  3.,  6.,  0.],\n",
       "        [10., 10.,  8.,  3.,  5.],\n",
       "        [ 5.,  6.,  9.,  8.,  2.],\n",
       "        [ 8.,  1.,  9.,  6.,  8.],\n",
       "        [ 8.,  7.,  2.,  8.,  0.],\n",
       "        [ 2.,  1.,  3.,  8., 10.]])"
      ]
     },
     "execution_count": 26,
     "metadata": {},
     "output_type": "execute_result"
    }
   ],
   "source": [
    "labels"
   ]
  },
  {
   "cell_type": "code",
   "execution_count": 27,
   "id": "24b24837",
   "metadata": {
    "execution": {
     "iopub.execute_input": "2023-06-05T09:31:01.064733Z",
     "iopub.status.busy": "2023-06-05T09:31:01.064315Z",
     "iopub.status.idle": "2023-06-05T09:31:01.122276Z",
     "shell.execute_reply": "2023-06-05T09:31:01.121358Z"
    },
    "papermill": {
     "duration": 6.269389,
     "end_time": "2023-06-05T09:31:01.124536",
     "exception": false,
     "start_time": "2023-06-05T09:30:54.855147",
     "status": "completed"
    },
    "tags": []
   },
   "outputs": [],
   "source": [
    "torch.save(model.state_dict(), './crnn_model.pth')"
   ]
  },
  {
   "cell_type": "markdown",
   "id": "ac36d01a",
   "metadata": {
    "papermill": {
     "duration": 6.01018,
     "end_time": "2023-06-05T09:31:13.823151",
     "exception": false,
     "start_time": "2023-06-05T09:31:07.812971",
     "status": "completed"
    },
    "tags": []
   },
   "source": []
  }
 ],
 "metadata": {
  "kernelspec": {
   "display_name": "Python 3",
   "language": "python",
   "name": "python3"
  },
  "language_info": {
   "codemirror_mode": {
    "name": "ipython",
    "version": 3
   },
   "file_extension": ".py",
   "mimetype": "text/x-python",
   "name": "python",
   "nbconvert_exporter": "python",
   "pygments_lexer": "ipython3",
   "version": "3.10.10"
  },
  "papermill": {
   "default_parameters": {},
   "duration": 9895.05365,
   "end_time": "2023-06-05T09:31:23.102914",
   "environment_variables": {},
   "exception": null,
   "input_path": "__notebook__.ipynb",
   "output_path": "__notebook__.ipynb",
   "parameters": {},
   "start_time": "2023-06-05T06:46:28.049264",
   "version": "2.4.0"
  }
 },
 "nbformat": 4,
 "nbformat_minor": 5
}
